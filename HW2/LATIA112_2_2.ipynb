{
  "nbformat": 4,
  "nbformat_minor": 0,
  "metadata": {
    "colab": {
      "provenance": []
    },
    "kernelspec": {
      "name": "python3",
      "display_name": "Python 3"
    },
    "language_info": {
      "name": "python"
    }
  },
  "cells": [
    {
      "cell_type": "markdown",
      "source": [
        "> 41271118H 柯亮宇\n",
        "\n",
        "<!--網頁爬蟲-->\n",
        "學習分析期中作業二"
      ],
      "metadata": {
        "id": "UaQslAbzrcRb"
      }
    },
    {
      "cell_type": "markdown",
      "source": [
        "# 第一部分：Selenium"
      ],
      "metadata": {
        "id": "QzRJCayM4rgS"
      }
    },
    {
      "cell_type": "code",
      "source": [
        "#@title 🚀 下載套件\n",
        "\n",
        "# 先下載所有要使用到的套件並導入\n",
        "from IPython.display import clear_output, HTML\n",
        "!curl -o- https://gist.githubusercontent.com/samko5sam/27dc5983bbdd37413eaf5a3d32f52108/raw/0bca202eb07864d8e6f10de8b18726abea8b705d/selenium.sh | bash\n",
        "\n",
        "clear_output()\n",
        "from bs4 import BeautifulSoup\n",
        "from lxml import html\n",
        "from selenium import webdriver\n",
        "from selenium.webdriver.common.by import By\n",
        "import time\n",
        "import random"
      ],
      "metadata": {
        "id": "iSdJxs78NBtg"
      },
      "execution_count": 1,
      "outputs": []
    },
    {
      "cell_type": "code",
      "source": [
        "#@title 🔗 取得選書連結清單\n",
        "options = webdriver.ChromeOptions()\n",
        "options.add_argument('--headless')\n",
        "options.add_argument('--no-sandbox')\n",
        "options.add_argument('--disable-dev-shm-usage')\n",
        "driver = webdriver.Chrome(options=options)\n",
        "driver.implicitly_wait(100) # 設定等待時間\n",
        "\n",
        "outputContent = ''\n",
        "\n",
        "urls = []\n",
        "driver.get(\"https://ebook.moc.gov.tw/category/readers/\")\n",
        "articlesList = driver.find_elements(By.CSS_SELECTOR, \".elementor-posts .elementor-post\") # 找到 container\n",
        "print(len(articlesList))\n",
        "for i in range(len(articlesList)):\n",
        "  articleLink = articlesList[i].find_element(By.CSS_SELECTOR, \".elementor-posts-container > .elementor-post > .elementor-post__card > .elementor-post__thumbnail__link\").get_attribute(\"href\") # 取得連結\n",
        "  outputContent += '{}: <a href=\"{}\">{}</a><br>'.format(i,articleLink,articleLink)\n",
        "  urls.append(articleLink)\n",
        "\n",
        "driver.quit()\n",
        "HTML(outputContent)"
      ],
      "metadata": {
        "colab": {
          "base_uri": "https://localhost:8080/",
          "height": 244
        },
        "id": "1-Qvv6Y84Zs7",
        "outputId": "53d178ad-b2b2-49a5-875f-2f453bc4df7f"
      },
      "execution_count": 2,
      "outputs": [
        {
          "output_type": "stream",
          "name": "stdout",
          "text": [
            "12\n"
          ]
        },
        {
          "output_type": "execute_result",
          "data": {
            "text/plain": [
              "<IPython.core.display.HTML object>"
            ],
            "text/html": [
              "0: <a href=\"https://ebook.moc.gov.tw/2024/05/01/ngselections/\">https://ebook.moc.gov.tw/2024/05/01/ngselections/</a><br>1: <a href=\"https://ebook.moc.gov.tw/2024/02/20/bowieselections/\">https://ebook.moc.gov.tw/2024/02/20/bowieselections/</a><br>2: <a href=\"https://ebook.moc.gov.tw/2024/01/29/ailingselections/\">https://ebook.moc.gov.tw/2024/01/29/ailingselections/</a><br>3: <a href=\"https://ebook.moc.gov.tw/2024/01/15/lienselections/\">https://ebook.moc.gov.tw/2024/01/15/lienselections/</a><br>4: <a href=\"https://ebook.moc.gov.tw/2024/01/15/anitaselections/\">https://ebook.moc.gov.tw/2024/01/15/anitaselections/</a><br>5: <a href=\"https://ebook.moc.gov.tw/2023/12/15/hsiehtunglinselections/\">https://ebook.moc.gov.tw/2023/12/15/hsiehtunglinselections/</a><br>6: <a href=\"https://ebook.moc.gov.tw/2023/12/15/plainlawselections/\">https://ebook.moc.gov.tw/2023/12/15/plainlawselections/</a><br>7: <a href=\"https://ebook.moc.gov.tw/2023/12/15/incredivilleselections/\">https://ebook.moc.gov.tw/2023/12/15/incredivilleselections/</a><br>8: <a href=\"https://ebook.moc.gov.tw/2023/11/16/fanchifeiselections/\">https://ebook.moc.gov.tw/2023/11/16/fanchifeiselections/</a><br>9: <a href=\"https://ebook.moc.gov.tw/2023/11/15/cherselections/\">https://ebook.moc.gov.tw/2023/11/15/cherselections/</a><br>10: <a href=\"https://ebook.moc.gov.tw/2023/10/31/ryanhsiehselections/\">https://ebook.moc.gov.tw/2023/10/31/ryanhsiehselections/</a><br>11: <a href=\"https://ebook.moc.gov.tw/2023/10/31/chuckchuselections/\">https://ebook.moc.gov.tw/2023/10/31/chuckchuselections/</a><br>"
            ]
          },
          "metadata": {},
          "execution_count": 2
        }
      ]
    },
    {
      "cell_type": "code",
      "source": [
        "#@title 🌐 取得選書內容\n",
        "options = webdriver.ChromeOptions()\n",
        "options.add_argument('--headless')\n",
        "options.add_argument('--no-sandbox')\n",
        "options.add_argument('--disable-dev-shm-usage')\n",
        "driver = webdriver.Chrome(options=options)\n",
        "driver.implicitly_wait(100)\n",
        "\n",
        "urls = urls[1:5] # 爬取四位選書人的書\n",
        "\n",
        "# htmlContent用來輸出爬取內容\n",
        "htmlContent = '<h3>選書</h3><table><tr><th>選書人</th><th>書名</th><th>作者</th><th>出版社</th><th>譯者/繪者</th></tr>'\n",
        "\n",
        "with open(\"selectedBooks.csv\", \"w\") as csvfile:\n",
        "    csvfile.write('')\n",
        "    csvfile.close()\n",
        "\n",
        "def getAndAppendWebContent(url):\n",
        "  myHtmlContent = ''\n",
        "  time.sleep(random.randint(0,3))\n",
        "  driver.get(url) # 打開網頁\n",
        "\n",
        "  soup = BeautifulSoup(driver.page_source, \"lxml\")\n",
        "  fp = open(\"index.html\", \"w\", encoding=\"utf8\")\n",
        "  fp.write(soup.prettify())\n",
        "  fp.close()\n",
        "  booksList = driver.find_elements(By.CLASS_NAME, \"elementor-section\")\n",
        "  for i in range(len(booksList)):\n",
        "    if i >= 10 and i <= 14: # 因為會選到其他內容，所以用index來判斷\n",
        "      bookTitle = booksList[i].find_element(By.CSS_SELECTOR, \".elementor-column > .elementor-widget-wrap > .elementor-element > .elementor-widget-container > h5\").text\n",
        "      bookInfoP = booksList[i].find_elements(By.CSS_SELECTOR, \".elementor-column > .elementor-widget-wrap > .elementor-element > .elementor-widget-container > p\")\n",
        "      bookAuthor = bookInfoP[0].text[3:].split(\"　\")[0] # 有一些作者欄還有繪者或譯者，所以用空格來分離\n",
        "      additionalAuthorsList = bookInfoP[0].text[3:].split(\"　\")\n",
        "      additionalAuthorsList.pop(0)\n",
        "      bookAdditionalAuthor = \" \".join(additionalAuthorsList)\n",
        "      bookPublisher = bookInfoP[1].text[4:] # 移除\"出版社：\"\n",
        "      myHtmlContent += '<tr><td>{}</td><td>{}</td><td>{}</td><td>{}</td><td>{}</td></tr>'.format(driver.title[:-15],bookTitle,bookAuthor,bookPublisher,bookAdditionalAuthor)\n",
        "      if bookAdditionalAuthor == \"\":\n",
        "        bookAdditionalAuthor = \"null\"\n",
        "      with open(\"selectedBooks.csv\", \"a\") as csvfile:\n",
        "        csvfile.write('{},{},{},{},{}'.format(driver.title[:-15],bookTitle,bookAuthor,bookPublisher,bookAdditionalAuthor))\n",
        "        csvfile.close()\n",
        "    if i >= 10 and i <= 13:\n",
        "      with open(\"selectedBooks.csv\", \"a\") as csvfile:\n",
        "        csvfile.write(\"\\n\")\n",
        "        csvfile.close()\n",
        "  return myHtmlContent\n",
        "\n",
        "for i in range(len(urls)):\n",
        "  htmlContent += getAndAppendWebContent(urls[i])\n",
        "  if i != len(urls) - 1:\n",
        "    with open(\"selectedBooks.csv\", \"a\") as csvfile:\n",
        "      csvfile.write(\"\\n\")\n",
        "      csvfile.close()\n",
        "\n",
        "driver.quit()\n",
        "htmlContent += '</table>'\n",
        "HTML(htmlContent)"
      ],
      "metadata": {
        "colab": {
          "base_uri": "https://localhost:8080/",
          "height": 868
        },
        "id": "zsFrB_M3sy0R",
        "outputId": "243067bf-63ce-4b58-bef3-90742680ac20"
      },
      "execution_count": 3,
      "outputs": [
        {
          "output_type": "execute_result",
          "data": {
            "text/plain": [
              "<IPython.core.display.HTML object>"
            ],
            "text/html": [
              "<h3>選書</h3><table><tr><th>選書人</th><th>書名</th><th>作者</th><th>出版社</th><th>譯者/繪者</th></tr><tr><td>曾寶儀</td><td>神鵰俠侶（新修文庫版）</td><td>金庸</td><td>遠流出版事業股份有限公司</td><td></td></tr><tr><td>曾寶儀</td><td>呼吸，為了療癒：全新的呼吸科學與醫學，透過清醒的呼吸，徹底轉化身心</td><td>楊定一</td><td>天下生活</td><td></td></tr><tr><td>曾寶儀</td><td>跟一棵樹聊天，聽他的人生哲學：春花媽的植物療癒旅程</td><td>春花媽</td><td>日出出版</td><td>繪/Soupy Tang湯舒皮</td></tr><tr><td>曾寶儀</td><td>死過一次才學會愛：艾妮塔的瀕死重生奇蹟</td><td>艾妮塔．穆札尼（Anita Moorjani）</td><td>橡實文化出版</td><td>譯/隋芃</td></tr><tr><td>曾寶儀</td><td>人生最大的成就，是成為你自己</td><td>曾寶儀</td><td>天下生活</td><td></td></tr><tr><td>陳艾琳</td><td>只要我長大</td><td>李光福</td><td>小魯文化事業股份有限公司</td><td></td></tr><tr><td>陳艾琳</td><td>謝謝妳是我媽媽</td><td>宋貞林</td><td>境好出版</td><td>譯/陳品芳</td></tr><tr><td>陳艾琳</td><td>為何三歲開始說謊？：探究心智起源，解開0-15歲孩子的大腦與行為之謎</td><td>謝伯讓</td><td>親子天下股份有限公司</td><td></td></tr><tr><td>陳艾琳</td><td>你的孩子不奇怪：改變，從理解孩子的奇怪開始</td><td>李介文</td><td>時報文化出版企業股份有限公司</td><td></td></tr><tr><td>陳艾琳</td><td>AI如何重塑教育：ChatGPT來了！讓孩子活出熱情，啟動真探究的內在學習</td><td>陳雅慧；賓靜蓀；溫怡玲；親子天下</td><td>親子天下股份有限公司</td><td></td></tr><tr><td>連俞涵</td><td>泰戈爾詩集</td><td>羅賓德拉納特．泰戈爾(Rabindranath Tagore)</td><td>新視野New Vision</td><td>編/林郁</td></tr><tr><td>連俞涵</td><td>悉達多：一首印度的詩（流浪者之歌）</td><td>赫曼．赫塞(Hermann Hesse)</td><td>漫遊者文化</td><td>譯/姜乙</td></tr><tr><td>連俞涵</td><td>周夢蝶詩集精選，暨荷蘭詩人漢樂逸英譯</td><td>周夢蝶</td><td>漫遊者文化</td><td>選編、英譯/漢樂逸(Lloyd Haft)</td></tr><tr><td>連俞涵</td><td>女演員</td><td>連俞涵</td><td>凱特文化</td><td></td></tr><tr><td>連俞涵</td><td>我們明天再說話</td><td>馬尼尼為</td><td>南方家園文化事業有限公司</td><td></td></tr><tr><td>御姊愛</td><td>文化地圖(暢銷增訂版)：八個面向的文化量表，讓你精確掌握文化交鋒的真相，避免淪為「國際文盲」</td><td>艾琳．梅爾(Erin Meyer)</td><td>好優文化</td><td>譯/李康莉、唐岱蘭</td></tr><tr><td>御姊愛</td><td>如果父母情緒不成熟：和內在父母和解，從假性孤兒邁向情感獨立的大人</td><td>琳賽．吉普森(Lindsay C. Gibson)</td><td>橡實文化</td><td>譯/劉凡恩</td></tr><tr><td>御姊愛</td><td>爸爸寄來的經濟學情書：一個父親對女兒訴說的全球經濟與資本主義小史</td><td>雅尼斯．瓦魯法克斯(Yanis Varoufakis)</td><td>漫遊者文化</td><td>譯/黃書儀</td></tr><tr><td>御姊愛</td><td>不存在的罪人：真相與虛構的交織，迷宮中最黑暗的人性悲劇</td><td>柯琳．胡佛(Colleen Hoover)</td><td>方言文化</td><td>譯/楊佳蓉</td></tr><tr><td>御姊愛</td><td>莫斯科紳士</td><td>亞莫爾．托歐斯(Amor Towles)</td><td>漫遊者文化</td><td>譯/李靜宜</td></tr></table>"
            ]
          },
          "metadata": {},
          "execution_count": 3
        }
      ]
    },
    {
      "cell_type": "markdown",
      "source": [
        "# 第二部分：Request"
      ],
      "metadata": {
        "id": "vPr2X7xd1B-c"
      }
    },
    {
      "cell_type": "code",
      "source": [
        "#@title 🚀 下載套件\n",
        "import sys\n",
        "import subprocess\n",
        "from IPython.display import clear_output, HTML\n",
        "from bs4 import BeautifulSoup\n",
        "\n",
        "# 使用check_call函數執行指定的命令，該函數會等待命令完成並檢查返回碼。\n",
        "# 在這裡，指定的命令是一個列表，包含要在命令行中執行的命令以及相應的參數。其中：\n",
        "# -`sys.executable`提供Python解釋器的路徑，以確保在正確的環境中執行pip。\n",
        "# -`-m pip` 表示使用Python的pip模組。\n",
        "# -`install cssselect` 是指定要安裝的模組。\n",
        "subprocess.check_call([sys.executable, '-m', 'pip', 'install', 'cssselect'])\n",
        "clear_output()"
      ],
      "metadata": {
        "id": "k51UJFCp1G-0"
      },
      "execution_count": 11,
      "outputs": []
    },
    {
      "cell_type": "code",
      "source": [
        "#@title 🔗 取得選書連結清單\n",
        "\n",
        "\n",
        "# 和上面 Selenium 一樣，只是使用 Requests 達成\n",
        "\n",
        "\n",
        "import requests\n",
        "from lxml import html\n",
        "urls = []\n",
        "r = requests.get(\"https://ebook.moc.gov.tw/category/readers/\")\n",
        "tree = html.fromstring(r.text)\n",
        "articlesList = tree.cssselect(\".elementor-posts-container > .elementor-post > .elementor-post__card > .elementor-post__thumbnail__link\")\n",
        "# print(len(articlesList))\n",
        "for i in range(len(articlesList)):\n",
        "  articleLink = articlesList[i].get(\"href\")\n",
        "  print(i, articleLink)\n",
        "  urls.append(articleLink)"
      ],
      "metadata": {
        "colab": {
          "base_uri": "https://localhost:8080/"
        },
        "id": "NTIc-MXtwVRP",
        "outputId": "d209ff45-9e43-49f6-ce3d-0dd1999a8245"
      },
      "execution_count": 8,
      "outputs": [
        {
          "output_type": "stream",
          "name": "stdout",
          "text": [
            "0 https://ebook.moc.gov.tw/2024/05/01/ngselections/\n",
            "1 https://ebook.moc.gov.tw/2024/02/20/bowieselections/\n",
            "2 https://ebook.moc.gov.tw/2024/01/29/ailingselections/\n",
            "3 https://ebook.moc.gov.tw/2024/01/15/lienselections/\n",
            "4 https://ebook.moc.gov.tw/2024/01/15/anitaselections/\n",
            "5 https://ebook.moc.gov.tw/2023/12/15/hsiehtunglinselections/\n",
            "6 https://ebook.moc.gov.tw/2023/12/15/plainlawselections/\n",
            "7 https://ebook.moc.gov.tw/2023/12/15/incredivilleselections/\n",
            "8 https://ebook.moc.gov.tw/2023/11/16/fanchifeiselections/\n",
            "9 https://ebook.moc.gov.tw/2023/11/15/cherselections/\n",
            "10 https://ebook.moc.gov.tw/2023/10/31/ryanhsiehselections/\n",
            "11 https://ebook.moc.gov.tw/2023/10/31/chuckchuselections/\n"
          ]
        }
      ]
    },
    {
      "cell_type": "code",
      "source": [
        "#@title 🌐 取得選書內容\n",
        "\n",
        "\n",
        "# 和上面 Selenium 一樣，只是使用 Requests 達成\n",
        "\n",
        "\n",
        "urls = urls[1:5] # 只取四個選書人\n",
        "\n",
        "htmlContent = '<h3>選書</h3><table><tr><th>選書人</th><th>書名</th><th>作者</th><th>出版社</th><th>譯者/繪者</th></tr>'\n",
        "\n",
        "with open(\"selectedBooks.csv\", \"w\") as csvfile:\n",
        "    csvfile.write('')\n",
        "    csvfile.close()\n",
        "\n",
        "def getAndAppendWebContent(url):\n",
        "  myHtmlContent = ''\n",
        "  r = requests.get(url)\n",
        "  soup = BeautifulSoup(r.text, \"lxml\")\n",
        "  webTitle = soup.select(\"title\")[0].text\n",
        "  booksInfo = soup.select(\".elementor-container .elementor-section\")\n",
        "  for i in range(len(booksInfo)):\n",
        "    if i >= 5 and i <= 9:\n",
        "      bookTitle = booksInfo[i].select(\".elementor-widget-container > h5\")\n",
        "      bookInfoP = booksInfo[i].select(\".elementor-column > .elementor-widget-wrap > .elementor-element > .elementor-widget-container > p\")\n",
        "      if (len(bookTitle)):\n",
        "        bookTitle = bookTitle[0].text\n",
        "        bookAuthor = bookInfoP[0].text[3:].split(\"　\")[0]\n",
        "        additionalAuthorsList = bookInfoP[0].text[3:].split(\"　\")\n",
        "        additionalAuthorsList.pop(0)\n",
        "        bookAdditionalAuthor = \" \".join(additionalAuthorsList)\n",
        "        bookPublisher = bookInfoP[1].text[4:]\n",
        "        myHtmlContent += '<tr><td>{}</td><td>{}</td><td>{}</td><td>{}</td><td>{}</td></tr>'.format(webTitle[:-15],bookTitle,bookAuthor,bookPublisher,bookAdditionalAuthor)\n",
        "        if bookAdditionalAuthor == \"\":\n",
        "          bookAdditionalAuthor = \"null\"\n",
        "        with open(\"selectedBooks.csv\", \"a\") as csvfile:\n",
        "          csvfile.write('{},{},{},{},{}'.format(webTitle[:-15],bookTitle,bookAuthor,bookPublisher,bookAdditionalAuthor))\n",
        "          csvfile.close()\n",
        "    if i >= 5 and i <= 8:\n",
        "      with open(\"selectedBooks.csv\", \"a\") as csvfile:\n",
        "        csvfile.write(\"\\n\")\n",
        "        csvfile.close()\n",
        "  return myHtmlContent\n",
        "\n",
        "for i in range(len(urls)):\n",
        "  htmlContent += getAndAppendWebContent(urls[i])\n",
        "  if i != len(urls) - 1:\n",
        "    with open(\"selectedBooks.csv\", \"a\") as csvfile:\n",
        "      csvfile.write(\"\\n\")\n",
        "      csvfile.close()\n",
        "\n",
        "htmlContent += '</table>'\n",
        "HTML(htmlContent)"
      ],
      "metadata": {
        "colab": {
          "base_uri": "https://localhost:8080/",
          "height": 868
        },
        "id": "n7Lz8Cvt0TvX",
        "outputId": "ba1a142a-3015-4403-8ff4-6d3c24442a1c"
      },
      "execution_count": 9,
      "outputs": [
        {
          "output_type": "execute_result",
          "data": {
            "text/plain": [
              "<IPython.core.display.HTML object>"
            ],
            "text/html": [
              "<h3>選書</h3><table><tr><th>選書人</th><th>書名</th><th>作者</th><th>出版社</th><th>譯者/繪者</th></tr><tr><td>曾寶儀</td><td>神鵰俠侶（新修文庫版）</td><td>金庸</td><td>遠流出版事業股份有限公司</td><td></td></tr><tr><td>曾寶儀</td><td>呼吸，為了療癒：全新的呼吸科學與醫學，透過清醒的呼吸，徹底轉化身心</td><td>楊定一</td><td>天下生活</td><td></td></tr><tr><td>曾寶儀</td><td>跟一棵樹聊天，聽他的人生哲學：春花媽的植物療癒旅程</td><td>春花媽</td><td>日出出版</td><td>繪/Soupy Tang湯舒皮</td></tr><tr><td>曾寶儀</td><td>死過一次才學會愛：艾妮塔的瀕死重生奇蹟</td><td>艾妮塔．穆札尼（Anita Moorjani）</td><td>橡實文化出版</td><td>譯/隋芃</td></tr><tr><td>曾寶儀</td><td>人生最大的成就，是成為你自己</td><td>曾寶儀</td><td>天下生活</td><td></td></tr><tr><td>陳艾琳</td><td>只要我長大</td><td>李光福</td><td>小魯文化事業股份有限公司</td><td></td></tr><tr><td>陳艾琳</td><td>謝謝妳是我媽媽</td><td>宋貞林</td><td>境好出版</td><td>譯/陳品芳</td></tr><tr><td>陳艾琳</td><td>為何三歲開始說謊？：探究心智起源，解開0-15歲孩子的大腦與行為之謎</td><td>謝伯讓</td><td>親子天下股份有限公司</td><td></td></tr><tr><td>陳艾琳</td><td>你的孩子不奇怪：改變，從理解孩子的奇怪開始</td><td>李介文</td><td>時報文化出版企業股份有限公司</td><td></td></tr><tr><td>陳艾琳</td><td>AI如何重塑教育：ChatGPT來了！讓孩子活出熱情，啟動真探究的內在學習</td><td>陳雅慧；賓靜蓀；溫怡玲；親子天下</td><td>親子天下股份有限公司</td><td></td></tr><tr><td>連俞涵</td><td>泰戈爾詩集</td><td>羅賓德拉納特．泰戈爾(Rabindranath Tagore)</td><td>新視野New Vision</td><td>編/林郁</td></tr><tr><td>連俞涵</td><td>悉達多：一首印度的詩（流浪者之歌）</td><td>赫曼．赫塞(Hermann Hesse)</td><td>漫遊者文化</td><td>譯/姜乙</td></tr><tr><td>連俞涵</td><td>周夢蝶詩集精選，暨荷蘭詩人漢樂逸英譯</td><td>周夢蝶</td><td>漫遊者文化</td><td>選編、英譯/漢樂逸(Lloyd Haft)</td></tr><tr><td>連俞涵</td><td>女演員</td><td>連俞涵</td><td>凱特文化</td><td></td></tr><tr><td>連俞涵</td><td>我們明天再說話</td><td>馬尼尼為</td><td>南方家園文化事業有限公司</td><td></td></tr><tr><td>御姊愛</td><td>文化地圖(暢銷增訂版)：八個面向的文化量表，讓你精確掌握文化交鋒的真相，避免淪為「國際文盲」</td><td>艾琳．梅爾(Erin Meyer)</td><td>好優文化</td><td>譯/李康莉、唐岱蘭</td></tr><tr><td>御姊愛</td><td>如果父母情緒不成熟：和內在父母和解，從假性孤兒邁向情感獨立的大人</td><td>琳賽．吉普森(Lindsay C. Gibson)</td><td>橡實文化</td><td>譯/劉凡恩</td></tr><tr><td>御姊愛</td><td>爸爸寄來的經濟學情書：一個父親對女兒訴說的全球經濟與資本主義小史</td><td>雅尼斯．瓦魯法克斯(Yanis Varoufakis)</td><td>漫遊者文化</td><td>譯/黃書儀</td></tr><tr><td>御姊愛</td><td>不存在的罪人：真相與虛構的交織，迷宮中最黑暗的人性悲劇</td><td>柯琳．胡佛(Colleen Hoover)</td><td>方言文化</td><td>譯/楊佳蓉</td></tr><tr><td>御姊愛</td><td>莫斯科紳士</td><td>亞莫爾．托歐斯(Amor Towles)</td><td>漫遊者文化</td><td>譯/李靜宜</td></tr></table>"
            ]
          },
          "metadata": {},
          "execution_count": 9
        }
      ]
    },
    {
      "cell_type": "code",
      "source": [
        "#@title 🔗 取得電子書排行榜\n",
        "import requests\n",
        "from lxml import html\n",
        "import re\n",
        "with open(\"chart.csv\", \"w\") as csvfile:\n",
        "    csvfile.write('')\n",
        "    csvfile.close()\n",
        "htmlContent = '<h3>熱銷排行</h3><table><tr><th>排行</th><th>書名</th><th>作者</th><th>出版社</th></tr>'\n",
        "r = requests.get(\"https://www.pubu.com.tw/hot/ebook\")\n",
        "tree = html.fromstring(r.text)\n",
        "bookTitles = tree.cssselect(\"#search-list-content > div > article > div > div.info-block > div.info-project > div > h3 > a\")\n",
        "bookAuthors = tree.cssselect(\"#search-list-content > div > article > div > div.info-block > div.info-project > div > div:nth-child(3) > a\")\n",
        "bookPublishers = tree.cssselect(\"#search-list-content > div > article > div > div.info-block > div.info-project > div > div:nth-child(2) > a\")\n",
        "for i in range(len(bookTitles)):\n",
        "  htmlContent += '<tr><td>{}</td><td>{}</td><td>{}</td><td>{}</td></tr>'.format(i+1, bookTitles[i].attrib[\"title\"], re.sub(r'[\\n\\t\\s]*', '', bookAuthors[i].text), re.sub(r'[\\n\\t\\s]*', '', bookPublishers[i].text))\n",
        "  with open(\"chart.csv\", \"a\") as csvfile:\n",
        "      csvfile.write('{},{},{},{}'.format(i+1, bookTitles[i].attrib[\"title\"], re.sub(r'[\\n\\t\\s]*', '', bookAuthors[i].text), re.sub(r'[\\n\\t\\s]*', '', bookPublishers[i].text)))\n",
        "      if i!=len(bookTitles)-1:\n",
        "        csvfile.write(\"\\n\")\n",
        "      csvfile.close()\n",
        "\n",
        "htmlContent += '</table>'\n",
        "HTML(htmlContent)"
      ],
      "metadata": {
        "colab": {
          "base_uri": "https://localhost:8080/",
          "height": 1000
        },
        "id": "PD-VlAJT1u4V",
        "outputId": "b40d7822-5cef-45dc-b337-3f325ba7b6cc"
      },
      "execution_count": 27,
      "outputs": [
        {
          "output_type": "execute_result",
          "data": {
            "text/plain": [
              "<IPython.core.display.HTML object>"
            ],
            "text/html": [
              "<h3>熱銷排行</h3><table><tr><th>排行</th><th>書名</th><th>作者</th><th>出版社</th></tr><tr><td>1</td><td>【軍公教、學生專屬優惠】Pubook SE 7.8吋閱讀器</td><td>湛天出版</td><td>湛天出版</td></tr><tr><td>2</td><td>巨人思維</td><td>巨人傑</td><td>天下文化</td></tr><tr><td>3</td><td>聖潔的愛 Your Holy Love 樂譜</td><td>火把音樂TorchMusic</td><td>火把音樂</td></tr><tr><td>4</td><td>文創風1211國師的愛徒 下</td><td>莫顏</td><td>狗屋出版社</td></tr><tr><td>5</td><td>文創風1210國師的愛徒 上</td><td>莫顏</td><td>狗屋出版社</td></tr><tr><td>6</td><td>01 奪回這世代 Reclaim This Generation 樂譜</td><td>火把音樂TorchMusic</td><td>火把音樂</td></tr><tr><td>7</td><td>蛤蟆先生去看心理師（暢銷300萬冊！英國心理諮商經典）</td><td>羅伯·狄保德(RobertdeBoard)</td><td>三采文化股份有限公司</td></tr><tr><td>8</td><td>詭軼紀事‧捌：噬人詭衣櫃</td><td>Div（另一種聲音）</td><td>笭菁工作室</td></tr><tr><td>9</td><td>一切都會好轉的：查理的百歲人生教會我的事</td><td>笭菁</td><td>時報出版</td></tr><tr><td>10</td><td>我，刀槍不入：從街頭魯蛇到海豹突擊隊，掌控心智、力抗萬難的奇蹟</td><td>龍雲</td><td>方智</td></tr><tr><td>11</td><td>我可能錯了：森林智者的最後一堂人生課</td><td>Misa</td><td>先覺</td></tr><tr><td>12</td><td>藥屋少女的呢喃～貓貓的後宮解謎手帳～(13)</td><td>大衛．馮．德雷爾(DavidVonDrehle)</td><td>長鴻出版社/小學館</td></tr><tr><td>13</td><td>一定要懂的行為經濟學：洞悉衝動購物、跟風投資、網路沉迷的心理，掌握深層消費關鍵</td><td>大衛・哥金斯（DavidGoggins）</td><td>台灣東販</td></tr><tr><td>14</td><td>七龍珠彩色漫畫 少年篇 (7)</td><td>比約恩．納提科．林德布勞、卡洛琳．班克勒、納維德．莫迪里封面繪者：托馬斯．桑切斯</td><td>東立出版社</td></tr><tr><td>15</td><td>我們為什麼要賺錢？為什麼要存錢？</td><td>作畫：倉田三之路原作：日向夏角色原案：篠冬子</td><td>采實文化</td></tr><tr><td>16</td><td>時勢：財經知識型YT「小Lin說」第一本商業金融科普書，讓你一口氣看懂世界經濟大局</td><td>橋本之克</td><td>野人</td></tr><tr><td>17</td><td>葬送的芙莉蓮 (11)</td><td>鳥山明</td><td>東立出版社</td></tr><tr><td>18</td><td>萬物藍圖</td><td>作者監修／池上彰繪者佳奈、モドロカ</td><td>商業周刊</td></tr><tr><td>19</td><td>有錢人的書櫃總有一本心理學書：打造你的「易富」體質，成為掌握財富的5%人！</td><td>小Lin</td><td>平安</td></tr><tr><td>20</td><td>三體系列燙銀簽名套書</td><td>山田鐘人(原著)</td><td>貓頭鷹出版</td></tr><tr><td>21</td><td>原子習慣：細微改變帶來巨大成就的實證法則</td><td>阿部司(イラスト)</td><td>方智</td></tr><tr><td>22</td><td>巨人的筆記【隨書附「摘要生活大小事」記錄別冊】：用記錄改寫人生的方法</td><td>詹姆斯．艾希頓JamesAshton</td><td>方智</td></tr><tr><td>23</td><td>七龍珠彩色漫畫 少年篇 (8)</td><td>鄭寅鎬</td><td>東立出版社</td></tr><tr><td>24</td><td>霧越邸殺人事件【經典改訂．全新譯本】：雙面書封新裝特藏版</td><td>劉慈欣</td><td>皇冠</td></tr><tr><td>25</td><td>便當實驗室開張:每天做給老公、女兒，偶爾也自己吃</td><td>詹姆斯‧克利爾（JamesClear）</td><td>大田出版有限公司</td></tr><tr><td>26</td><td>持續買進</td><td>金翼漢김익한</td><td>商業周刊</td></tr><tr><td>27</td><td>排球少年 (1)</td><td>鳥山明</td><td>東立出版社</td></tr><tr><td>28</td><td>逆思維：華頓商學院最具影響力的教授，突破人生盲點的全局思考</td><td>綾辻行人</td><td>平安文化</td></tr><tr><td>29</td><td>最強配息型ETF全攻略：穩收息、不蝕本！一次學會自組月月配，打造月領10萬、持續獲利的現金流收入</td><td>高木直子</td><td>天下雜誌出版</td></tr><tr><td>30</td><td>AI世界的底層邏輯與生存法則【電子書獨家收錄程世嘉導讀影片】</td><td>尼克．馬朱利NickMaggiulli</td><td>天下文化</td></tr><tr><td>31</td><td>【小說】擁有超常技能的異世界流浪美食家(14)</td><td>古館春一</td><td>東立出版社</td></tr><tr><td>32</td><td>鄉下大叔成為劍聖~只是區區鄉下劍術師傅，成大器的弟子們卻不肯放過我~ (1)</td><td>亞當．格蘭特</td><td>東立出版社</td></tr><tr><td>33</td><td>噬亡村完全版(09)</td><td>郭俊宏</td><td>尖端出版</td></tr><tr><td>34</td><td>噬亡村完全版(08)</td><td>程世嘉</td><td>尖端出版</td></tr><tr><td>35</td><td>東大特訓班2 9</td><td>蕭玉品</td><td>台灣東販</td></tr><tr><td>36</td><td>黑色夏天殺人事件</td><td>江口連</td><td>春天出版</td></tr></table>"
            ]
          },
          "metadata": {},
          "execution_count": 27
        }
      ]
    }
  ]
}