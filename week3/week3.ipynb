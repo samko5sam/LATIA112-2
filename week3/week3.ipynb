{
  "nbformat": 4,
  "nbformat_minor": 0,
  "metadata": {
    "colab": {
      "provenance": []
    },
    "kernelspec": {
      "name": "python3",
      "display_name": "Python 3"
    },
    "language_info": {
      "name": "python"
    }
  },
  "cells": [
    {
      "cell_type": "markdown",
      "source": [
        "## Week 3"
      ],
      "metadata": {
        "id": "LCc9AxckXp9j"
      }
    },
    {
      "cell_type": "code",
      "execution_count": 3,
      "metadata": {
        "id": "nrJeVAasiBPQ",
        "colab": {
          "base_uri": "https://localhost:8080/"
        },
        "outputId": "f4a4b3fc-124c-46a9-c7c7-6268a4a19bf7"
      },
      "outputs": [
        {
          "output_type": "stream",
          "name": "stdout",
          "text": [
            "Mounted at /content/gdrive/\n",
            "total 45\n",
            "-rw------- 1 root root 37077 Mar  5 06:40 LATIA112-2.ipynb\n",
            "drwx------ 2 root root  4096 Feb 27 06:37 week2\n",
            "drwx------ 2 root root  4096 Mar  5 06:00 week3\n"
          ]
        }
      ],
      "source": [
        "from google.colab import drive\n",
        "drive.mount('/content/gdrive/', force_remount=True)\n",
        "\n",
        "import os\n",
        "os.chdir(\"/content/gdrive/My Drive/hw/1122學習分析工具實務應用/LATIA112-2/\")\n",
        "!ls -al"
      ]
    },
    {
      "cell_type": "code",
      "source": [
        "import pandas as pd\n",
        "\n",
        "csv_file = './week2/112_student.csv'\n",
        "\n",
        "#columns = [\n",
        "#    \"學年度\",\"學校代碼\",\"學校名稱\",\"日間∕進修別\",\"等級別\",\"總計\",\"男生計\",\n",
        "#    \"女生計\",\"一年級男\",\"一年級女\",\"二年級男\",\"二年級女\",\"三年級男\",\"三年級女\",\n",
        "#    \"四年級男\",\"四年級女\",\"五年級男\",\"五年級女\",\"六年級男\",\"六年級女\",\n",
        "#    \"七年級男\",\"七年級女\",\"延修生男\",\"延修生女\",\"縣市名稱\",\"體系別\"\n",
        "#]\n",
        "df = pd.read_csv(csv_file)\n",
        "print(df.head())\n",
        "\n",
        "#查看資料欄位資訊\n",
        "print(df.info())\n",
        "\n",
        "#查看資料的統計學資訊描述\n",
        "#print(df.describe(include='all'))\n",
        "\n",
        "\n",
        "# 新增公私立欄位\n",
        "type_list = [] # 建立空字串\n",
        "\n",
        "for i in df['學校名稱']:\n",
        "    if ('國立' in i) or ('市立' in i):\n",
        "        type_list.append('公立')\n",
        "    else:\n",
        "        type_list.append('私立')\n",
        "\n",
        "df['公私立'] = type_list # 將 Dataframe 新增「公私立」column\n",
        "\n",
        "\n",
        "# 新增區域欄位\n",
        "type_list = [] # 建立空字串\n",
        "\n",
        "for i in df['縣市名稱']:\n",
        "    if ('北' in i) or ('新' in i) or ('基隆' in i) or ('桃園' in i) or ('宜蘭' in i):\n",
        "        type_list.append('北部')\n",
        "    elif ('中' in i) or ('苗栗' in i) or ('彰化' in i) or ('南投' in i) or ('雲林' in i):\n",
        "        type_list.append('中部')\n",
        "    elif ('高雄' in i) or ('臺南' in i) or ('嘉義' in i) or ('屏東' in i) or ('澎湖' in i):\n",
        "        type_list.append('南部')\n",
        "    elif ('花蓮' in i) or ('臺東' in i):\n",
        "        type_list.append('東部')\n",
        "    else:\n",
        "        type_list.append('福建')\n",
        "\n",
        "df['區域'] = type_list\n",
        "\n",
        "df"
      ],
      "metadata": {
        "id": "hth5CL3clOs2",
        "colab": {
          "base_uri": "https://localhost:8080/",
          "height": 1000
        },
        "outputId": "6bf3b4a4-73a1-4f21-bfb0-dd6fad726074"
      },
      "execution_count": 43,
      "outputs": [
        {
          "output_type": "stream",
          "name": "stdout",
          "text": [
            "   學年度  學校代碼    學校名稱 日間∕進修別   等級別    總計   男生計   女生計  一年級男  一年級女  ...  五年級男  \\\n",
            "0  112     1  國立政治大學    D 日  D 博士   921   517   404    86    69  ...    63   \n",
            "1  112     1  國立政治大學    D 日  M 碩士  4231  1835  2396   598   809  ...     2   \n",
            "2  112     1  國立政治大學    N 職  M 碩士  1903   938   965   262   304  ...    77   \n",
            "3  112     1  國立政治大學    D 日  B 學士  9763  3928  5835   906  1349  ...     0   \n",
            "4  112     2  國立清華大學    D 日  D 博士  1636  1131   505   206    93  ...   140   \n",
            "\n",
            "   五年級女  六年級男  六年級女  七年級男  七年級女  延修生男  延修生女    縣市名稱   體系別  \n",
            "0    52    68    37    66    50     0     0  30 臺北市  1 一般  \n",
            "1     1     1     0     0     0     0     0  30 臺北市  1 一般  \n",
            "2    57     0     0     0     0     0     0  30 臺北市  1 一般  \n",
            "3     0     0     0     0     0   316   499  30 臺北市  1 一般  \n",
            "4    60   110    50   115    56     0     0  18 新竹市  1 一般  \n",
            "\n",
            "[5 rows x 26 columns]\n",
            "<class 'pandas.core.frame.DataFrame'>\n",
            "RangeIndex: 764 entries, 0 to 763\n",
            "Data columns (total 26 columns):\n",
            " #   Column  Non-Null Count  Dtype \n",
            "---  ------  --------------  ----- \n",
            " 0   學年度     764 non-null    int64 \n",
            " 1   學校代碼    764 non-null    int64 \n",
            " 2   學校名稱    764 non-null    object\n",
            " 3   日間∕進修別  764 non-null    object\n",
            " 4   等級別     764 non-null    object\n",
            " 5   總計      764 non-null    int64 \n",
            " 6   男生計     764 non-null    int64 \n",
            " 7   女生計     764 non-null    int64 \n",
            " 8   一年級男    764 non-null    int64 \n",
            " 9   一年級女    764 non-null    int64 \n",
            " 10  二年級男    764 non-null    int64 \n",
            " 11  二年級女    764 non-null    int64 \n",
            " 12  三年級男    764 non-null    int64 \n",
            " 13  三年級女    764 non-null    int64 \n",
            " 14  四年級男    764 non-null    int64 \n",
            " 15  四年級女    764 non-null    int64 \n",
            " 16  五年級男    764 non-null    int64 \n",
            " 17  五年級女    764 non-null    int64 \n",
            " 18  六年級男    764 non-null    int64 \n",
            " 19  六年級女    764 non-null    int64 \n",
            " 20  七年級男    764 non-null    int64 \n",
            " 21  七年級女    764 non-null    int64 \n",
            " 22  延修生男    764 non-null    int64 \n",
            " 23  延修生女    764 non-null    int64 \n",
            " 24  縣市名稱    764 non-null    object\n",
            " 25  體系別     764 non-null    object\n",
            "dtypes: int64(21), object(5)\n",
            "memory usage: 155.3+ KB\n",
            "None\n"
          ]
        },
        {
          "output_type": "execute_result",
          "data": {
            "text/plain": [
              "     學年度  學校代碼        學校名稱 日間∕進修別   等級別    總計   男生計   女生計  一年級男  一年級女  ...  \\\n",
              "0    112     1      國立政治大學    D 日  D 博士   921   517   404    86    69  ...   \n",
              "1    112     1      國立政治大學    D 日  M 碩士  4231  1835  2396   598   809  ...   \n",
              "2    112     1      國立政治大學    N 職  M 碩士  1903   938   965   262   304  ...   \n",
              "3    112     1      國立政治大學    D 日  B 學士  9763  3928  5835   906  1349  ...   \n",
              "4    112     2      國立清華大學    D 日  D 博士  1636  1131   505   206    93  ...   \n",
              "..   ...   ...         ...    ...   ...   ...   ...   ...   ...   ...  ...   \n",
              "759  112  1293  崇仁醫護管理專科學校    D 日  5 五專  3017   460  2557   112   515  ...   \n",
              "760  112  3002      臺北市立大學    D 日  D 博士   208    94   114    17    11  ...   \n",
              "761  112  3002      臺北市立大學    D 日  M 碩士  1330   413   917   137   265  ...   \n",
              "762  112  3002      臺北市立大學    N 職  M 碩士  1248   341   907   114   274  ...   \n",
              "763  112  3002      臺北市立大學    D 日  B 學士  5275  2287  2988   535   759  ...   \n",
              "\n",
              "     六年級男  六年級女  七年級男  七年級女  延修生男  延修生女    縣市名稱   體系別  公私立  區域  \n",
              "0      68    37    66    50     0     0  30 臺北市  1 一般   公立  北部  \n",
              "1       1     0     0     0     0     0  30 臺北市  1 一般   公立  北部  \n",
              "2       0     0     0     0     0     0  30 臺北市  1 一般   公立  北部  \n",
              "3       0     0     0     0   316   499  30 臺北市  1 一般   公立  北部  \n",
              "4     110    50   115    56     0     0  18 新竹市  1 一般   公立  北部  \n",
              "..    ...   ...   ...   ...   ...   ...     ...   ...  ...  ..  \n",
              "759     0     0     0     0    19    45  10 嘉義縣  2 技職   私立  南部  \n",
              "760     6     9    16    25     0     0  30 臺北市  1 一般   公立  北部  \n",
              "761    15    43     0     1     0     0  30 臺北市  1 一般   公立  北部  \n",
              "762    17    50     0     0     0     0  30 臺北市  1 一般   公立  北部  \n",
              "763     0     0     0     0   172   154  30 臺北市  1 一般   公立  北部  \n",
              "\n",
              "[764 rows x 28 columns]"
            ],
            "text/html": [
              "\n",
              "  <div id=\"df-f6164243-c396-4049-a66b-82aa6305ad5d\" class=\"colab-df-container\">\n",
              "    <div>\n",
              "<style scoped>\n",
              "    .dataframe tbody tr th:only-of-type {\n",
              "        vertical-align: middle;\n",
              "    }\n",
              "\n",
              "    .dataframe tbody tr th {\n",
              "        vertical-align: top;\n",
              "    }\n",
              "\n",
              "    .dataframe thead th {\n",
              "        text-align: right;\n",
              "    }\n",
              "</style>\n",
              "<table border=\"1\" class=\"dataframe\">\n",
              "  <thead>\n",
              "    <tr style=\"text-align: right;\">\n",
              "      <th></th>\n",
              "      <th>學年度</th>\n",
              "      <th>學校代碼</th>\n",
              "      <th>學校名稱</th>\n",
              "      <th>日間∕進修別</th>\n",
              "      <th>等級別</th>\n",
              "      <th>總計</th>\n",
              "      <th>男生計</th>\n",
              "      <th>女生計</th>\n",
              "      <th>一年級男</th>\n",
              "      <th>一年級女</th>\n",
              "      <th>...</th>\n",
              "      <th>六年級男</th>\n",
              "      <th>六年級女</th>\n",
              "      <th>七年級男</th>\n",
              "      <th>七年級女</th>\n",
              "      <th>延修生男</th>\n",
              "      <th>延修生女</th>\n",
              "      <th>縣市名稱</th>\n",
              "      <th>體系別</th>\n",
              "      <th>公私立</th>\n",
              "      <th>區域</th>\n",
              "    </tr>\n",
              "  </thead>\n",
              "  <tbody>\n",
              "    <tr>\n",
              "      <th>0</th>\n",
              "      <td>112</td>\n",
              "      <td>1</td>\n",
              "      <td>國立政治大學</td>\n",
              "      <td>D 日</td>\n",
              "      <td>D 博士</td>\n",
              "      <td>921</td>\n",
              "      <td>517</td>\n",
              "      <td>404</td>\n",
              "      <td>86</td>\n",
              "      <td>69</td>\n",
              "      <td>...</td>\n",
              "      <td>68</td>\n",
              "      <td>37</td>\n",
              "      <td>66</td>\n",
              "      <td>50</td>\n",
              "      <td>0</td>\n",
              "      <td>0</td>\n",
              "      <td>30 臺北市</td>\n",
              "      <td>1 一般</td>\n",
              "      <td>公立</td>\n",
              "      <td>北部</td>\n",
              "    </tr>\n",
              "    <tr>\n",
              "      <th>1</th>\n",
              "      <td>112</td>\n",
              "      <td>1</td>\n",
              "      <td>國立政治大學</td>\n",
              "      <td>D 日</td>\n",
              "      <td>M 碩士</td>\n",
              "      <td>4231</td>\n",
              "      <td>1835</td>\n",
              "      <td>2396</td>\n",
              "      <td>598</td>\n",
              "      <td>809</td>\n",
              "      <td>...</td>\n",
              "      <td>1</td>\n",
              "      <td>0</td>\n",
              "      <td>0</td>\n",
              "      <td>0</td>\n",
              "      <td>0</td>\n",
              "      <td>0</td>\n",
              "      <td>30 臺北市</td>\n",
              "      <td>1 一般</td>\n",
              "      <td>公立</td>\n",
              "      <td>北部</td>\n",
              "    </tr>\n",
              "    <tr>\n",
              "      <th>2</th>\n",
              "      <td>112</td>\n",
              "      <td>1</td>\n",
              "      <td>國立政治大學</td>\n",
              "      <td>N 職</td>\n",
              "      <td>M 碩士</td>\n",
              "      <td>1903</td>\n",
              "      <td>938</td>\n",
              "      <td>965</td>\n",
              "      <td>262</td>\n",
              "      <td>304</td>\n",
              "      <td>...</td>\n",
              "      <td>0</td>\n",
              "      <td>0</td>\n",
              "      <td>0</td>\n",
              "      <td>0</td>\n",
              "      <td>0</td>\n",
              "      <td>0</td>\n",
              "      <td>30 臺北市</td>\n",
              "      <td>1 一般</td>\n",
              "      <td>公立</td>\n",
              "      <td>北部</td>\n",
              "    </tr>\n",
              "    <tr>\n",
              "      <th>3</th>\n",
              "      <td>112</td>\n",
              "      <td>1</td>\n",
              "      <td>國立政治大學</td>\n",
              "      <td>D 日</td>\n",
              "      <td>B 學士</td>\n",
              "      <td>9763</td>\n",
              "      <td>3928</td>\n",
              "      <td>5835</td>\n",
              "      <td>906</td>\n",
              "      <td>1349</td>\n",
              "      <td>...</td>\n",
              "      <td>0</td>\n",
              "      <td>0</td>\n",
              "      <td>0</td>\n",
              "      <td>0</td>\n",
              "      <td>316</td>\n",
              "      <td>499</td>\n",
              "      <td>30 臺北市</td>\n",
              "      <td>1 一般</td>\n",
              "      <td>公立</td>\n",
              "      <td>北部</td>\n",
              "    </tr>\n",
              "    <tr>\n",
              "      <th>4</th>\n",
              "      <td>112</td>\n",
              "      <td>2</td>\n",
              "      <td>國立清華大學</td>\n",
              "      <td>D 日</td>\n",
              "      <td>D 博士</td>\n",
              "      <td>1636</td>\n",
              "      <td>1131</td>\n",
              "      <td>505</td>\n",
              "      <td>206</td>\n",
              "      <td>93</td>\n",
              "      <td>...</td>\n",
              "      <td>110</td>\n",
              "      <td>50</td>\n",
              "      <td>115</td>\n",
              "      <td>56</td>\n",
              "      <td>0</td>\n",
              "      <td>0</td>\n",
              "      <td>18 新竹市</td>\n",
              "      <td>1 一般</td>\n",
              "      <td>公立</td>\n",
              "      <td>北部</td>\n",
              "    </tr>\n",
              "    <tr>\n",
              "      <th>...</th>\n",
              "      <td>...</td>\n",
              "      <td>...</td>\n",
              "      <td>...</td>\n",
              "      <td>...</td>\n",
              "      <td>...</td>\n",
              "      <td>...</td>\n",
              "      <td>...</td>\n",
              "      <td>...</td>\n",
              "      <td>...</td>\n",
              "      <td>...</td>\n",
              "      <td>...</td>\n",
              "      <td>...</td>\n",
              "      <td>...</td>\n",
              "      <td>...</td>\n",
              "      <td>...</td>\n",
              "      <td>...</td>\n",
              "      <td>...</td>\n",
              "      <td>...</td>\n",
              "      <td>...</td>\n",
              "      <td>...</td>\n",
              "      <td>...</td>\n",
              "    </tr>\n",
              "    <tr>\n",
              "      <th>759</th>\n",
              "      <td>112</td>\n",
              "      <td>1293</td>\n",
              "      <td>崇仁醫護管理專科學校</td>\n",
              "      <td>D 日</td>\n",
              "      <td>5 五專</td>\n",
              "      <td>3017</td>\n",
              "      <td>460</td>\n",
              "      <td>2557</td>\n",
              "      <td>112</td>\n",
              "      <td>515</td>\n",
              "      <td>...</td>\n",
              "      <td>0</td>\n",
              "      <td>0</td>\n",
              "      <td>0</td>\n",
              "      <td>0</td>\n",
              "      <td>19</td>\n",
              "      <td>45</td>\n",
              "      <td>10 嘉義縣</td>\n",
              "      <td>2 技職</td>\n",
              "      <td>私立</td>\n",
              "      <td>南部</td>\n",
              "    </tr>\n",
              "    <tr>\n",
              "      <th>760</th>\n",
              "      <td>112</td>\n",
              "      <td>3002</td>\n",
              "      <td>臺北市立大學</td>\n",
              "      <td>D 日</td>\n",
              "      <td>D 博士</td>\n",
              "      <td>208</td>\n",
              "      <td>94</td>\n",
              "      <td>114</td>\n",
              "      <td>17</td>\n",
              "      <td>11</td>\n",
              "      <td>...</td>\n",
              "      <td>6</td>\n",
              "      <td>9</td>\n",
              "      <td>16</td>\n",
              "      <td>25</td>\n",
              "      <td>0</td>\n",
              "      <td>0</td>\n",
              "      <td>30 臺北市</td>\n",
              "      <td>1 一般</td>\n",
              "      <td>公立</td>\n",
              "      <td>北部</td>\n",
              "    </tr>\n",
              "    <tr>\n",
              "      <th>761</th>\n",
              "      <td>112</td>\n",
              "      <td>3002</td>\n",
              "      <td>臺北市立大學</td>\n",
              "      <td>D 日</td>\n",
              "      <td>M 碩士</td>\n",
              "      <td>1330</td>\n",
              "      <td>413</td>\n",
              "      <td>917</td>\n",
              "      <td>137</td>\n",
              "      <td>265</td>\n",
              "      <td>...</td>\n",
              "      <td>15</td>\n",
              "      <td>43</td>\n",
              "      <td>0</td>\n",
              "      <td>1</td>\n",
              "      <td>0</td>\n",
              "      <td>0</td>\n",
              "      <td>30 臺北市</td>\n",
              "      <td>1 一般</td>\n",
              "      <td>公立</td>\n",
              "      <td>北部</td>\n",
              "    </tr>\n",
              "    <tr>\n",
              "      <th>762</th>\n",
              "      <td>112</td>\n",
              "      <td>3002</td>\n",
              "      <td>臺北市立大學</td>\n",
              "      <td>N 職</td>\n",
              "      <td>M 碩士</td>\n",
              "      <td>1248</td>\n",
              "      <td>341</td>\n",
              "      <td>907</td>\n",
              "      <td>114</td>\n",
              "      <td>274</td>\n",
              "      <td>...</td>\n",
              "      <td>17</td>\n",
              "      <td>50</td>\n",
              "      <td>0</td>\n",
              "      <td>0</td>\n",
              "      <td>0</td>\n",
              "      <td>0</td>\n",
              "      <td>30 臺北市</td>\n",
              "      <td>1 一般</td>\n",
              "      <td>公立</td>\n",
              "      <td>北部</td>\n",
              "    </tr>\n",
              "    <tr>\n",
              "      <th>763</th>\n",
              "      <td>112</td>\n",
              "      <td>3002</td>\n",
              "      <td>臺北市立大學</td>\n",
              "      <td>D 日</td>\n",
              "      <td>B 學士</td>\n",
              "      <td>5275</td>\n",
              "      <td>2287</td>\n",
              "      <td>2988</td>\n",
              "      <td>535</td>\n",
              "      <td>759</td>\n",
              "      <td>...</td>\n",
              "      <td>0</td>\n",
              "      <td>0</td>\n",
              "      <td>0</td>\n",
              "      <td>0</td>\n",
              "      <td>172</td>\n",
              "      <td>154</td>\n",
              "      <td>30 臺北市</td>\n",
              "      <td>1 一般</td>\n",
              "      <td>公立</td>\n",
              "      <td>北部</td>\n",
              "    </tr>\n",
              "  </tbody>\n",
              "</table>\n",
              "<p>764 rows × 28 columns</p>\n",
              "</div>\n",
              "    <div class=\"colab-df-buttons\">\n",
              "\n",
              "  <div class=\"colab-df-container\">\n",
              "    <button class=\"colab-df-convert\" onclick=\"convertToInteractive('df-f6164243-c396-4049-a66b-82aa6305ad5d')\"\n",
              "            title=\"Convert this dataframe to an interactive table.\"\n",
              "            style=\"display:none;\">\n",
              "\n",
              "  <svg xmlns=\"http://www.w3.org/2000/svg\" height=\"24px\" viewBox=\"0 -960 960 960\">\n",
              "    <path d=\"M120-120v-720h720v720H120Zm60-500h600v-160H180v160Zm220 220h160v-160H400v160Zm0 220h160v-160H400v160ZM180-400h160v-160H180v160Zm440 0h160v-160H620v160ZM180-180h160v-160H180v160Zm440 0h160v-160H620v160Z\"/>\n",
              "  </svg>\n",
              "    </button>\n",
              "\n",
              "  <style>\n",
              "    .colab-df-container {\n",
              "      display:flex;\n",
              "      gap: 12px;\n",
              "    }\n",
              "\n",
              "    .colab-df-convert {\n",
              "      background-color: #E8F0FE;\n",
              "      border: none;\n",
              "      border-radius: 50%;\n",
              "      cursor: pointer;\n",
              "      display: none;\n",
              "      fill: #1967D2;\n",
              "      height: 32px;\n",
              "      padding: 0 0 0 0;\n",
              "      width: 32px;\n",
              "    }\n",
              "\n",
              "    .colab-df-convert:hover {\n",
              "      background-color: #E2EBFA;\n",
              "      box-shadow: 0px 1px 2px rgba(60, 64, 67, 0.3), 0px 1px 3px 1px rgba(60, 64, 67, 0.15);\n",
              "      fill: #174EA6;\n",
              "    }\n",
              "\n",
              "    .colab-df-buttons div {\n",
              "      margin-bottom: 4px;\n",
              "    }\n",
              "\n",
              "    [theme=dark] .colab-df-convert {\n",
              "      background-color: #3B4455;\n",
              "      fill: #D2E3FC;\n",
              "    }\n",
              "\n",
              "    [theme=dark] .colab-df-convert:hover {\n",
              "      background-color: #434B5C;\n",
              "      box-shadow: 0px 1px 3px 1px rgba(0, 0, 0, 0.15);\n",
              "      filter: drop-shadow(0px 1px 2px rgba(0, 0, 0, 0.3));\n",
              "      fill: #FFFFFF;\n",
              "    }\n",
              "  </style>\n",
              "\n",
              "    <script>\n",
              "      const buttonEl =\n",
              "        document.querySelector('#df-f6164243-c396-4049-a66b-82aa6305ad5d button.colab-df-convert');\n",
              "      buttonEl.style.display =\n",
              "        google.colab.kernel.accessAllowed ? 'block' : 'none';\n",
              "\n",
              "      async function convertToInteractive(key) {\n",
              "        const element = document.querySelector('#df-f6164243-c396-4049-a66b-82aa6305ad5d');\n",
              "        const dataTable =\n",
              "          await google.colab.kernel.invokeFunction('convertToInteractive',\n",
              "                                                    [key], {});\n",
              "        if (!dataTable) return;\n",
              "\n",
              "        const docLinkHtml = 'Like what you see? Visit the ' +\n",
              "          '<a target=\"_blank\" href=https://colab.research.google.com/notebooks/data_table.ipynb>data table notebook</a>'\n",
              "          + ' to learn more about interactive tables.';\n",
              "        element.innerHTML = '';\n",
              "        dataTable['output_type'] = 'display_data';\n",
              "        await google.colab.output.renderOutput(dataTable, element);\n",
              "        const docLink = document.createElement('div');\n",
              "        docLink.innerHTML = docLinkHtml;\n",
              "        element.appendChild(docLink);\n",
              "      }\n",
              "    </script>\n",
              "  </div>\n",
              "\n",
              "\n",
              "<div id=\"df-c308995c-808a-4cbb-9d8d-de0b20a92c35\">\n",
              "  <button class=\"colab-df-quickchart\" onclick=\"quickchart('df-c308995c-808a-4cbb-9d8d-de0b20a92c35')\"\n",
              "            title=\"Suggest charts\"\n",
              "            style=\"display:none;\">\n",
              "\n",
              "<svg xmlns=\"http://www.w3.org/2000/svg\" height=\"24px\"viewBox=\"0 0 24 24\"\n",
              "     width=\"24px\">\n",
              "    <g>\n",
              "        <path d=\"M19 3H5c-1.1 0-2 .9-2 2v14c0 1.1.9 2 2 2h14c1.1 0 2-.9 2-2V5c0-1.1-.9-2-2-2zM9 17H7v-7h2v7zm4 0h-2V7h2v10zm4 0h-2v-4h2v4z\"/>\n",
              "    </g>\n",
              "</svg>\n",
              "  </button>\n",
              "\n",
              "<style>\n",
              "  .colab-df-quickchart {\n",
              "      --bg-color: #E8F0FE;\n",
              "      --fill-color: #1967D2;\n",
              "      --hover-bg-color: #E2EBFA;\n",
              "      --hover-fill-color: #174EA6;\n",
              "      --disabled-fill-color: #AAA;\n",
              "      --disabled-bg-color: #DDD;\n",
              "  }\n",
              "\n",
              "  [theme=dark] .colab-df-quickchart {\n",
              "      --bg-color: #3B4455;\n",
              "      --fill-color: #D2E3FC;\n",
              "      --hover-bg-color: #434B5C;\n",
              "      --hover-fill-color: #FFFFFF;\n",
              "      --disabled-bg-color: #3B4455;\n",
              "      --disabled-fill-color: #666;\n",
              "  }\n",
              "\n",
              "  .colab-df-quickchart {\n",
              "    background-color: var(--bg-color);\n",
              "    border: none;\n",
              "    border-radius: 50%;\n",
              "    cursor: pointer;\n",
              "    display: none;\n",
              "    fill: var(--fill-color);\n",
              "    height: 32px;\n",
              "    padding: 0;\n",
              "    width: 32px;\n",
              "  }\n",
              "\n",
              "  .colab-df-quickchart:hover {\n",
              "    background-color: var(--hover-bg-color);\n",
              "    box-shadow: 0 1px 2px rgba(60, 64, 67, 0.3), 0 1px 3px 1px rgba(60, 64, 67, 0.15);\n",
              "    fill: var(--button-hover-fill-color);\n",
              "  }\n",
              "\n",
              "  .colab-df-quickchart-complete:disabled,\n",
              "  .colab-df-quickchart-complete:disabled:hover {\n",
              "    background-color: var(--disabled-bg-color);\n",
              "    fill: var(--disabled-fill-color);\n",
              "    box-shadow: none;\n",
              "  }\n",
              "\n",
              "  .colab-df-spinner {\n",
              "    border: 2px solid var(--fill-color);\n",
              "    border-color: transparent;\n",
              "    border-bottom-color: var(--fill-color);\n",
              "    animation:\n",
              "      spin 1s steps(1) infinite;\n",
              "  }\n",
              "\n",
              "  @keyframes spin {\n",
              "    0% {\n",
              "      border-color: transparent;\n",
              "      border-bottom-color: var(--fill-color);\n",
              "      border-left-color: var(--fill-color);\n",
              "    }\n",
              "    20% {\n",
              "      border-color: transparent;\n",
              "      border-left-color: var(--fill-color);\n",
              "      border-top-color: var(--fill-color);\n",
              "    }\n",
              "    30% {\n",
              "      border-color: transparent;\n",
              "      border-left-color: var(--fill-color);\n",
              "      border-top-color: var(--fill-color);\n",
              "      border-right-color: var(--fill-color);\n",
              "    }\n",
              "    40% {\n",
              "      border-color: transparent;\n",
              "      border-right-color: var(--fill-color);\n",
              "      border-top-color: var(--fill-color);\n",
              "    }\n",
              "    60% {\n",
              "      border-color: transparent;\n",
              "      border-right-color: var(--fill-color);\n",
              "    }\n",
              "    80% {\n",
              "      border-color: transparent;\n",
              "      border-right-color: var(--fill-color);\n",
              "      border-bottom-color: var(--fill-color);\n",
              "    }\n",
              "    90% {\n",
              "      border-color: transparent;\n",
              "      border-bottom-color: var(--fill-color);\n",
              "    }\n",
              "  }\n",
              "</style>\n",
              "\n",
              "  <script>\n",
              "    async function quickchart(key) {\n",
              "      const quickchartButtonEl =\n",
              "        document.querySelector('#' + key + ' button');\n",
              "      quickchartButtonEl.disabled = true;  // To prevent multiple clicks.\n",
              "      quickchartButtonEl.classList.add('colab-df-spinner');\n",
              "      try {\n",
              "        const charts = await google.colab.kernel.invokeFunction(\n",
              "            'suggestCharts', [key], {});\n",
              "      } catch (error) {\n",
              "        console.error('Error during call to suggestCharts:', error);\n",
              "      }\n",
              "      quickchartButtonEl.classList.remove('colab-df-spinner');\n",
              "      quickchartButtonEl.classList.add('colab-df-quickchart-complete');\n",
              "    }\n",
              "    (() => {\n",
              "      let quickchartButtonEl =\n",
              "        document.querySelector('#df-c308995c-808a-4cbb-9d8d-de0b20a92c35 button');\n",
              "      quickchartButtonEl.style.display =\n",
              "        google.colab.kernel.accessAllowed ? 'block' : 'none';\n",
              "    })();\n",
              "  </script>\n",
              "</div>\n",
              "    </div>\n",
              "  </div>\n"
            ],
            "application/vnd.google.colaboratory.intrinsic+json": {
              "type": "dataframe",
              "variable_name": "df"
            }
          },
          "metadata": {},
          "execution_count": 43
        }
      ]
    },
    {
      "cell_type": "markdown",
      "source": [
        "# 1.哪間大專院校有最多的學士生\n",
        "\n",
        "step1: 取出想要查看的欄位，並印出此資料集共有多少筆紀錄 (len)\n",
        "\n",
        "step2: 篩選等級別為\"B 學士\"的DataFrame，並印出有招生學士學制的學校數量\n",
        "\n",
        "step3: 依據\"總計\"從大到小排序並印出結果 (sort_values, by, ascending)"
      ],
      "metadata": {
        "id": "bX5p1tgOSu1i"
      }
    },
    {
      "cell_type": "code",
      "source": [
        "# 請在\"填空\"處，輸入所需要的指令或參數\n",
        "\n",
        "df1 = df[['等級別','總計','學校名稱']] # 取出想要觀看的欄位\n",
        "print(\"本資料集共有\", len(df1), \"筆紀錄\")\n",
        "\n",
        "df1_1 = df1[df1['等級別'] == 'B 學士']\n",
        "print(\"有招生學士學制的學校數量為\", len(df1_1), \"\\n\")\n",
        "df1_1_sorted = df1_1.sort_values(\"總計\", ascending=False)\n",
        "print(\"112學年度在籍的學士生最多人數之學校為\", df1_1_sorted.head(1)[\"學校名稱\"].values[0])"
      ],
      "metadata": {
        "id": "D9AfvfU-Szu7",
        "colab": {
          "base_uri": "https://localhost:8080/"
        },
        "outputId": "2621b2ce-b6c6-4467-85a1-d5d22d56420c"
      },
      "execution_count": 16,
      "outputs": [
        {
          "output_type": "stream",
          "name": "stdout",
          "text": [
            "本資料集共有 764 筆紀錄\n",
            "有招生學士學制的學校數量為 97 \n",
            "\n",
            "112學年度在籍的學士生最多人數之學校為 淡江大學\n"
          ]
        }
      ]
    },
    {
      "cell_type": "markdown",
      "source": [
        "# 2. 公立？所；私立？所\n",
        "\n",
        "step1: 建立空字串 (lsit=[])\n",
        "\n",
        "step2: 建立for迴圈，配合if else條件，取出國立與私立\n",
        "\n",
        "step3: 新增「公私立」column在DataFrame中 (df['公私立'])\n",
        "\n",
        "step4: 篩選掉重複的學校代碼資料 (drop_duplicates)\n",
        "\n",
        "step5: 計算公立與私立學校的筆數，並印出結果 (value_counts)"
      ],
      "metadata": {
        "id": "IzqRi2WyRZFh"
      }
    },
    {
      "cell_type": "code",
      "source": [
        "df2 = df.drop_duplicates(subset=['學校代碼'])\n",
        "count = df2['公私立'].value_counts()\n",
        "\n",
        "# print(df2)\n",
        "print(f\"本資料集共收集了 {len(df2)} 所學校，其中公立：{count['公立']} 所；私立：{count['私立']} 所。\")"
      ],
      "metadata": {
        "id": "eMbiigpnRbdl",
        "colab": {
          "base_uri": "https://localhost:8080/"
        },
        "outputId": "33592ac2-657f-4efd-e62f-dd80d8407e46"
      },
      "execution_count": 24,
      "outputs": [
        {
          "output_type": "stream",
          "name": "stdout",
          "text": [
            "本資料集共收集了 145 所學校，其中公立：47 所；私立：98 所。\n"
          ]
        }
      ]
    },
    {
      "cell_type": "markdown",
      "source": [
        "# 3. 各等級別學制共有？所\n",
        "\n",
        "step1: 篩選掉重複的學校名稱與等級別 (drop_duplicates, subset)\n",
        "\n",
        "step2: 計算出等級別的筆數 (value_counts)\n",
        "\n",
        "step3: 建立等級別的字串，並找出其類別 (unique)\n",
        "\n",
        "step4: 使用for迴圈，依序列出所有等級別學制的學校數量 (count)"
      ],
      "metadata": {
        "id": "Fg_f-NzNSKiU"
      }
    },
    {
      "cell_type": "code",
      "source": [
        "df3 = df.drop_duplicates(subset=['學校名稱','等級別'])\n",
        "count = df3['等級別'].value_counts()\n",
        "degree_list = list(df['等級別'].drop_duplicates())\n",
        "\n",
        "# print(df3)\n",
        "# print(count)\n",
        "# print(degree_list)\n",
        "\n",
        "print(f\"本資料集總共收集了 {len(set(df['學校代碼']))} 所學校，各等級學制當中：\")\n",
        "for degree in degree_list:\n",
        "    print(f\"一共有{count[degree]} 所學校， 有招收{degree}。\")"
      ],
      "metadata": {
        "id": "FuhQKQqRSLOc",
        "colab": {
          "base_uri": "https://localhost:8080/"
        },
        "outputId": "dc0c417a-74ff-4dd5-d762-e1c3ef695302"
      },
      "execution_count": 30,
      "outputs": [
        {
          "output_type": "stream",
          "name": "stdout",
          "text": [
            "本資料集總共收集了 145 所學校，各等級學制當中：\n",
            "一共有84 所學校， 有招收D 博士。\n",
            "一共有130 所學校， 有招收M 碩士。\n",
            "一共有67 所學校， 有招收B 學士。\n",
            "一共有1 所學校， 有招收X 4+X。\n",
            "一共有71 所學校， 有招收C 二技。\n",
            "一共有66 所學校， 有招收B 四技。\n",
            "一共有46 所學校， 有招收5 五專。\n",
            "一共有2 所學校， 有招收5 七年。\n",
            "一共有46 所學校， 有招收2 二專。\n",
            "一共有1 所學校， 有招收C 二年制。\n"
          ]
        }
      ]
    },
    {
      "cell_type": "markdown",
      "source": [
        "# 4. 各縣市分別有？所，位於新北市的大專院校總共有幾所"
      ],
      "metadata": {
        "id": "wKevo1U1TOn2"
      }
    },
    {
      "cell_type": "code",
      "source": [
        "df4 = df.drop_duplicates(subset=['學校代碼'])\n",
        "count = df4.value_counts(\"縣市名稱\")\n",
        "print(count,'\\n')\n",
        "print(f\"新北市的大專院校有 {count['01 新北市']} 所\")"
      ],
      "metadata": {
        "id": "kTfp6k2ATPPI",
        "colab": {
          "base_uri": "https://localhost:8080/"
        },
        "outputId": "e9832cdf-7bae-493a-ec41-ea171ed33f88"
      },
      "execution_count": 35,
      "outputs": [
        {
          "output_type": "stream",
          "name": "stdout",
          "text": [
            "縣市名稱\n",
            "30 臺北市    24\n",
            "01 新北市    20\n",
            "03 桃園市    12\n",
            "19 臺中市    11\n",
            "11 臺南市     9\n",
            "50 高雄市     8\n",
            "12 高雄市     7\n",
            "06 臺中市     6\n",
            "18 新竹市     5\n",
            "13 屏東縣     5\n",
            "10 嘉義縣     4\n",
            "15 花蓮縣     4\n",
            "07 彰化縣     4\n",
            "21 臺南市     4\n",
            "09 雲林縣     3\n",
            "02 宜蘭縣     3\n",
            "17 基隆市     3\n",
            "05 苗栗縣     3\n",
            "14 臺東縣     2\n",
            "08 南投縣     2\n",
            "20 嘉義市     2\n",
            "04 新竹縣     2\n",
            "16 澎湖縣     1\n",
            "71 金門縣     1\n",
            "dtype: int64 \n",
            "\n",
            "新北市的大專院校有 20 所\n"
          ]
        }
      ]
    },
    {
      "cell_type": "markdown",
      "source": [
        "# 5. 北中南東區分別有？所\n",
        "\n",
        "都市及區域發展統計彙編 - 國發會 https://www.ndc.gov.tw/nc_77_4402"
      ],
      "metadata": {
        "id": "cwKsmmdNXKwL"
      }
    },
    {
      "cell_type": "markdown",
      "source": [
        "北部區域：包括臺北市、新北市、基隆市、新竹市、桃園市、新竹縣及宜蘭縣。\n",
        "\n",
        "中部區域：包括臺中市、苗栗縣、彰化縣、南投縣及雲林縣。\n",
        "\n",
        "南部區域：包括高雄市、臺南市、嘉義市、嘉義縣、屏東縣及澎湖縣。\n",
        "\n",
        "東部區域：包括花蓮縣及臺東縣。\n",
        "\n",
        "福建省：包括金門縣與連江縣。"
      ],
      "metadata": {
        "id": "nc8jGnGW_joN"
      }
    },
    {
      "cell_type": "code",
      "source": [
        "df.drop_duplicates(subset=['學校代碼']).value_counts(\"區域\")"
      ],
      "metadata": {
        "id": "RDgJ5YoAx92d",
        "colab": {
          "base_uri": "https://localhost:8080/"
        },
        "outputId": "ec829b06-015d-44b2-b0f8-12b427f750de"
      },
      "execution_count": 38,
      "outputs": [
        {
          "output_type": "execute_result",
          "data": {
            "text/plain": [
              "區域\n",
              "北部    69\n",
              "南部    40\n",
              "中部    29\n",
              "東部     6\n",
              "福建     1\n",
              "dtype: int64"
            ]
          },
          "metadata": {},
          "execution_count": 38
        }
      ]
    },
    {
      "cell_type": "markdown",
      "source": [
        "# 6. 各體系別分別有？所"
      ],
      "metadata": {
        "id": "7WkoovplBeaz"
      }
    },
    {
      "cell_type": "code",
      "source": [
        "df.drop_duplicates(subset=['學校代碼'])[[\"體系別\"]].value_counts()"
      ],
      "metadata": {
        "id": "JKMhMFVMBiBF",
        "colab": {
          "base_uri": "https://localhost:8080/"
        },
        "outputId": "341db12c-a548-427b-e5d7-d97e6f1ea607"
      },
      "execution_count": 41,
      "outputs": [
        {
          "output_type": "execute_result",
          "data": {
            "text/plain": [
              "體系別 \n",
              "2 技職    78\n",
              "1 一般    62\n",
              "3 師範     5\n",
              "dtype: int64"
            ]
          },
          "metadata": {},
          "execution_count": 41
        }
      ]
    },
    {
      "cell_type": "markdown",
      "source": [
        "# 7. 國立/私立與男女比\n",
        "請問國立大學與私立大學在學男生女生比例為何? 延修生男生女生比例為何?"
      ],
      "metadata": {
        "id": "h3ujPC6KCLxI"
      }
    },
    {
      "cell_type": "code",
      "source": [
        "dfo = df[df[\"公私立\"] == \"公立\"]\n",
        "dfp = df[df[\"公私立\"] == \"私立\"]\n",
        "print(f'公立大學性別比： {(dfo[\"男生計\"].sum()/dfo[\"女生計\"].sum()*100)}')\n",
        "print(f'私立大學性別比： {(dfp[\"男生計\"].sum()/dfp[\"女生計\"].sum()*100)}')"
      ],
      "metadata": {
        "id": "deMDYF5ACMU-",
        "colab": {
          "base_uri": "https://localhost:8080/"
        },
        "outputId": "68ac338c-7b44-428a-a113-ca56b52c90ee"
      },
      "execution_count": 51,
      "outputs": [
        {
          "output_type": "stream",
          "name": "stdout",
          "text": [
            "公立大學性別比： 119.84351820835526\n",
            "私立大學性別比： 84.47652171893417\n"
          ]
        }
      ]
    },
    {
      "cell_type": "markdown",
      "source": [
        "# 8. 國立大學在學生男女比"
      ],
      "metadata": {
        "id": "DAvYMOFLCtRn"
      }
    },
    {
      "cell_type": "code",
      "source": [],
      "metadata": {
        "id": "dYAEBiC7Co8B"
      },
      "execution_count": null,
      "outputs": []
    },
    {
      "cell_type": "markdown",
      "source": [
        " # 9. 每校平均最多與最少人的體系"
      ],
      "metadata": {
        "id": "zWIyQ01LXGo_"
      }
    },
    {
      "cell_type": "code",
      "source": [],
      "metadata": {
        "id": "uSHT2gbiXIW8"
      },
      "execution_count": null,
      "outputs": []
    },
    {
      "cell_type": "markdown",
      "source": [
        "# 10. 將新增的欄位寫入並儲存成新的CSV檔案，並命名為112_students_tf.csv\n",
        "\n",
        "新增的欄位有\"公私立\"，\"縣市名\"，\"區域\""
      ],
      "metadata": {
        "id": "KIx0QtssywfA"
      }
    },
    {
      "cell_type": "code",
      "source": [],
      "metadata": {
        "id": "LZUhVcpGzFOE"
      },
      "execution_count": null,
      "outputs": []
    }
  ]
}