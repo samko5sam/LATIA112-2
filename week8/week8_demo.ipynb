{
  "nbformat": 4,
  "nbformat_minor": 0,
  "metadata": {
    "colab": {
      "provenance": []
    },
    "kernelspec": {
      "name": "python3",
      "display_name": "Python 3"
    },
    "language_info": {
      "name": "python"
    }
  },
  "cells": [
    {
      "cell_type": "code",
      "source": [
        "from IPython.display import clear_output\n",
        "!curl -o- https://gist.githubusercontent.com/samko5sam/27dc5983bbdd37413eaf5a3d32f52108/raw/0bca202eb07864d8e6f10de8b18726abea8b705d/selenium.sh | bash\n",
        "\n",
        "clear_output()"
      ],
      "metadata": {
        "id": "9i3osar0vVms"
      },
      "execution_count": 3,
      "outputs": []
    },
    {
      "cell_type": "code",
      "execution_count": 15,
      "metadata": {
        "id": "utVHjIwWuVvS",
        "colab": {
          "base_uri": "https://localhost:8080/"
        },
        "outputId": "1d4332d9-dfcc-44f0-9efd-e239f819a69f"
      },
      "outputs": [
        {
          "output_type": "stream",
          "name": "stdout",
          "text": [
            "<Element img at 0x7893d4e30ae0>\n",
            "---------------------------\n",
            "img\n",
            "---------------------------\n",
            "https://www.flag.com.tw/assets/img/bookpic/F3714.jpg\n",
            "---------------------------\n",
            "<Element p at 0x7893d4e33920>\n",
            "---------------------------\n",
            "p\n",
            "---------------------------\n",
            "新觀念 Visual C# 程式設計範例教本 第六版\n"
          ]
        }
      ],
      "source": [
        "# 這段程式碼是使用子進程來執行pip安裝cssselect模組，並使用requests和lxml.html模組來解析網頁內容。\n",
        "\n",
        "\n",
        "# 導入sys模組，用於訪問系統相關的功能。\n",
        "import sys\n",
        "\n",
        "# 導入subprocess模組，用於建立和管理子進程，以執行命令行操作。\n",
        "import subprocess\n",
        "\n",
        "# 使用check_call函數執行指定的命令，該函數會等待命令完成並檢查返回碼。\n",
        "# 在這裡，指定的命令是一個列表，包含要在命令行中執行的命令以及相應的參數。其中：\n",
        "# -`sys.executable`提供Python解釋器的路徑，以確保在正確的環境中執行pip。\n",
        "# -`-m pip` 表示使用Python的pip模組。\n",
        "# -`install cssselect` 是指定要安裝的模組。\n",
        "subprocess.check_call([sys.executable, '-m', 'pip', 'install', 'cssselect'])\n",
        "\n",
        "# 導入requests函式庫，它是用於向網站發送HTTP請求以取得網頁資源的常用函式庫。\n",
        "import requests\n",
        "\n",
        "# 導入lxml函式庫中的html模組，用於解析HTML文件並建構ElementTree物件。\n",
        "from lxml import html\n",
        "\n",
        "# 發送一個GET請求到指定的URL（\"http://www.flag.com.tw/books/school_code_n_algo\"），\n",
        "# 並將回應儲存在變數r中。\n",
        "r = requests.get(\"http://www.flag.com.tw/books/school_code_n_algo\")\n",
        "\n",
        "# 使用lxml.html模組中的fromstring()函式將回應的HTML文本轉換為ElementTree物件，儲存在變數tree中。\n",
        "tree = html.fromstring(r.text)\n",
        "\n",
        "booki = 0\n",
        "\n",
        "# 使用CSS選擇器來選擇特定的HTML元素。這裡選擇了第一個`<img>`元素，並將其儲存在tag_img中。\n",
        "tag_img = tree.cssselect(\"td > a > img\")[booki]\n",
        "\n",
        "# 輸出`tag_img`元素的內容。\n",
        "print(tag_img)\n",
        "print('---------------------------')\n",
        "\n",
        "# 輸出`tag_img.tag`元素的標籤名稱。\n",
        "print(tag_img.tag)\n",
        "print('---------------------------')\n",
        "\n",
        "# 輸出圖片的URL。\n",
        "print(tag_img.attrib[\"src\"])\n",
        "print('---------------------------')\n",
        "\n",
        "# 使用CSS選擇器來選擇第一個`<p>`元素，並將其儲存在`tag_p`中。\n",
        "#tag_p = tree.cssselect(\"body > section.allbooks > table > tr:nth-child(2) > td:nth-child(1) > a > p\")[0]\n",
        "\n",
        "\n",
        "tag_p = tree.cssselect(\"td > a > p\")[booki]\n",
        "\n",
        "# 輸出`tag_p`元素的內容。\n",
        "print(tag_p)\n",
        "print('---------------------------')\n",
        "\n",
        "# 輸出`tag_p`元素的標籤名稱。\n",
        "print(tag_p.tag)\n",
        "print('---------------------------')\n",
        "\n",
        "# 輸出`tag_p`元素的文本內容為\n",
        "# 世界第一簡單的 Python「超」入門 - 零基礎 OK！ChatGPT 隨時當助教！。\n",
        "print(tag_p.text_content())\n"
      ]
    }
  ]
}